{
 "cells": [
  {
   "cell_type": "code",
   "execution_count": 1,
   "id": "4170ace9-ba0e-44f2-9aa9-2ac12e49b596",
   "metadata": {},
   "outputs": [
    {
     "name": "stdin",
     "output_type": "stream",
     "text": [
      "Ask ChatGPT something:  quick Brown\n"
     ]
    },
    {
     "name": "stdout",
     "output_type": "stream",
     "text": [
      "ChatGPT says: fox jumps over the lazy dog\n"
     ]
    }
   ],
   "source": [
    "import openai\n",
    "import os\n",
    "\n",
    "def chat_with_gpt(prompt):\n",
    "    \"\"\"Interacts with the OpenAI API to generate a response.\"\"\"\n",
    "    client = openai.OpenAI() # create an openai client.\n",
    "    response = client.chat.completions.create( # use client.chat.completions.create()\n",
    "        model='gpt-3.5-turbo',\n",
    "        messages=[{'role': 'user', 'content': prompt}]\n",
    "    )\n",
    "    return response.choices[0].message.content # access the message content differently.\n",
    "\n",
    "if __name__ == '__main__':\n",
    "    # Get the API key from the environment variable\n",
    "    openai.api_key = os.environ.get('OPENAI_API_KEY')\n",
    "\n",
    "    if openai.api_key is None:\n",
    "        print(\"Error: OpenAI API key not found in environment variables.\")\n",
    "        exit(1)\n",
    "\n",
    "    user_input = input('Ask ChatGPT something: ')\n",
    "    print('ChatGPT says:', chat_with_gpt(user_input)) "
   ]
  },
  {
   "cell_type": "code",
   "execution_count": null,
   "id": "24560ddc-d5bc-417b-8c6e-e9e51301e280",
   "metadata": {},
   "outputs": [],
   "source": []
  }
 ],
 "metadata": {
  "kernelspec": {
   "display_name": "Python 3 (ipykernel)",
   "language": "python",
   "name": "python3"
  },
  "language_info": {
   "codemirror_mode": {
    "name": "ipython",
    "version": 3
   },
   "file_extension": ".py",
   "mimetype": "text/x-python",
   "name": "python",
   "nbconvert_exporter": "python",
   "pygments_lexer": "ipython3",
   "version": "3.11.11"
  }
 },
 "nbformat": 4,
 "nbformat_minor": 5
}
